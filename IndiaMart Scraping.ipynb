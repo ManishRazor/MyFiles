{
 "cells": [
  {
   "cell_type": "markdown",
   "id": "3050a660",
   "metadata": {},
   "source": [
    "## Scraping seller's data from indiamart website links \n",
    "- info needed \n",
    "    1. Nature of business \n",
    "    2. GST No.\n",
    "    3. Annual Turnover\n",
    "    4. Import Export Code (IEC)"
   ]
  },
  {
   "cell_type": "markdown",
   "id": "a20139d4",
   "metadata": {},
   "source": [
    "### Industries needed - \n",
    "    1. Consumer Electronics & household appliances Furniture\n",
    "    2. Apparel Clothing & Garment: Ladies Dress & Apparel, Kids, Casual Ethnic & Western Wear, Winter Wear & Accessories, Men Shirts, jeans &clothing, Party wedding western and formal wear, Leather Jackets & Garments, Unisex Clothing, \n",
    "    3. Cosmetics & Personal Care\n",
    "    4. Kitchen Essentials\n",
    "    5. Gifts & Decoratives\n",
    "    6. Sports Goods, Toys & Games\n",
    "    7. Gems Jewelry & Astrology\n",
    "    8. Fashion Accessories\n",
    "    9. Bags, Belts & Wallets\n",
    "\n",
    "### IndiaMart Website : https://dir.indiamart.com/\n",
    "\n",
    "__*XPATH*__ :\n",
    "\n",
    "**industry name XPATH** : /html/body/div[2]/article[1]/section[4]/h2/a\n",
    "\n",
    "**first industry XPATH** : /html/body/div[2]/article[1]/section[1]/div[2]/a[7]\n",
    "\n",
    "**last industry XPATH** : /html/body/div[2]/article[1]/section[56]/div[2]/a[7]\n"
   ]
  },
  {
   "cell_type": "code",
   "execution_count": null,
   "id": "9d641852",
   "metadata": {},
   "outputs": [],
   "source": [
    "import pandas as pd\n",
    "import numpy as np\n",
    "from selenium import webdriver\n",
    "from webdriver_manager.chrome import ChromeDriverManager\n",
    "from selenium.webdriver.common.by import By\n",
    "from selenium.common.exceptions import NoSuchElementException\n",
    "import time"
   ]
  },
  {
   "cell_type": "code",
   "execution_count": null,
   "id": "204b3870",
   "metadata": {},
   "outputs": [],
   "source": [
    "df = pd.DataFrame()\n",
    "ch_driver = webdriver.Chrome(ChromeDriverManager().install())\n",
    "# Open up a Chrome browser and navigate to web page.\n",
    "options = webdriver.ChromeOptions()"
   ]
  },
  {
   "cell_type": "markdown",
   "id": "94509628",
   "metadata": {},
   "source": [
    "## Industries\n",
    "\n",
    "Will get the **Industries list** from the indiamart website using the above mentinoed XPath in a loop."
   ]
  },
  {
   "cell_type": "code",
   "execution_count": null,
   "id": "feafa05a",
   "metadata": {},
   "outputs": [],
   "source": [
    "url1 = \"https://dir.indiamart.com/\"\n",
    "ch_driver.get(url1)\n",
    "for i in range(1,56):\n",
    "    Industries = []\n",
    "    Industries.append(ch_driver.find_element(By.XPATH, \"/html/body/div[2]/article[2]/section[\"+str(i)+\"]/h2/a\").text)\n",
    "    Industries.append(ch_driver.find_element(By.XPATH, \"/html/body/div[2]/article[2]/section[\"+str(i)+\"]/div[2]/a[7]\").get_attribute(\"href\"))\n",
    "    df = df.append([Industries], ignore_index=True)\n",
    "df.columns = ['Industry', 'URL']\n",
    "df.to_csv('Industries.csv',index=False)"
   ]
  },
  {
   "cell_type": "markdown",
   "id": "ca302761",
   "metadata": {},
   "source": [
    "## SubIndustries\n",
    "\n",
    "Using the above industry **URL's**, will now get the subindustries list along with URL's for the selected Industries.\n",
    "\n",
    "SubIndustry __*Name*__ XPATH : /html/body/div[9]/div[2]/div[1]/ul1/li1/a, *ul* and *li* tags will be iterating in loop\n",
    "\n",
    "for the URL we should use .get_attribute(\"href\")"
   ]
  },
  {
   "cell_type": "code",
   "execution_count": null,
   "id": "91d43990",
   "metadata": {},
   "outputs": [],
   "source": [
    "sub_ind_df = pd.DataFrame()\n",
    "for i in range(1,55):\n",
    "    if df[\"Industry\"][i] in ('Apparel & Garments','Electronics & Electrical','Furniture & Supplies','Housewares & Supplies',\n",
    "                             'Handicrafts & Decoratives','Kitchen Utensils & Appliances','Cosmetics & Personal Care','Home Textile & Furnishing',\n",
    "                             'Gems, Jewelry & Astrology','Fashion Accessories & Gear','Sports Goods, Toys & Games','Bags, Belts & Wallets','Leather Products',):\n",
    "        #print(df[\"Industry\"][i],i)\n",
    "        url=df[\"URL\"][i]\n",
    "        ch_driver.get(url)\n",
    "        try:\n",
    "            for j in range(1,20):\n",
    "                for k in range(1,4):\n",
    "                    sub_ind=[]\n",
    "                    sub_ind.append(df[\"Industry\"][i])\n",
    "                    sub_ind.append(ch_driver.find_element(By.XPATH, \"/html/body/div[9]/div[2]/div[1]/ul[\"+str(j)+\"]/li[\"+str(k)+\"]/a\").text)\n",
    "                    sub_ind.append(ch_driver.find_element(By.XPATH, \"/html/body/div[9]/div[2]/div[1]/ul[\"+str(j)+\"]/li[\"+str(k)+\"]/a\").get_attribute(\"href\"))\n",
    "                    sub_ind_df = sub_ind_df.append([sub_ind], ignore_index=True)\n",
    "        except:\n",
    "            #print(i,\"error continued\")\n",
    "            continue\n",
    "            \n",
    "sub_ind_df.columns=[\"Industry\",\"Sub_Industry\",\"URL\"]\n",
    "#sub_ind_df.to_csv('Sub_industries.csv',index=False) \n",
    "#already saved"
   ]
  },
  {
   "cell_type": "code",
   "execution_count": null,
   "id": "5a1013a7",
   "metadata": {},
   "outputs": [],
   "source": [
    "sub_ind_df=pd.read_csv('Sub_industries.csv')\n",
    "sub_ind_df"
   ]
  },
  {
   "cell_type": "markdown",
   "id": "6370e77a",
   "metadata": {},
   "source": [
    "## Product Types\n",
    "\n",
    "By visting each selected subIndustries will now get the list of different product types along with URL's\n",
    "\n",
    "will be limiting the loop to 20 products types for each subindustries.\n",
    "\n",
    "*XPATH* : /html/body/div[9]/div[3]/div/section[1]/ul/li1/div/div[1]/div[1]/div/a"
   ]
  },
  {
   "cell_type": "code",
   "execution_count": null,
   "id": "c43286a5",
   "metadata": {},
   "outputs": [],
   "source": [
    "ch_driver = webdriver.Chrome(ChromeDriverManager().install())\n",
    "product_df=pd.DataFrame()\n",
    "for i in range(0,88):\n",
    "    #print(df[\"Industry\"][i],i)\n",
    "    url=sub_ind_df[\"URL\"][i]\n",
    "    ch_driver.refresh()\n",
    "    try:\n",
    "        ch_driver.get(url)\n",
    "    except:\n",
    "        print(i)\n",
    "        ch_driver.refresh()\n",
    "    try:\n",
    "        for j in range(1,20):\n",
    "            product=[]\n",
    "            product.append(sub_ind_df[\"Industry\"][i])\n",
    "            product.append(sub_ind_df[\"Sub_Industry\"][i])\n",
    "            product.append(ch_driver.find_element(By.XPATH, \"/html/body/div[9]/div[3]/div/section[1]/ul/li[\"+str(j)+\"]/div/div[1]/div[1]/div/a\").text)\n",
    "            product.append(ch_driver.find_element(By.XPATH, \"/html/body/div[9]/div[3]/div/section[1]/ul/li[\"+str(j)+\"]/div/div[1]/div[1]/div/a\").get_attribute(\"href\"))\n",
    "            product_df = product_df.append([product], ignore_index=True)\n",
    "    except:\n",
    "        #print(i,\"error continued\")\n",
    "        continue\n",
    "            \n",
    "#product_df.columns=[\"Industry\",\"Sub_Industry\",\"Product\",\"URL\"]\n",
    "#product_df.to_csv('Products.csv',index=False)\n"
   ]
  },
  {
   "cell_type": "code",
   "execution_count": null,
   "id": "c01b6297",
   "metadata": {},
   "outputs": [],
   "source": [
    "#product_df.to_csv('Products.csv',index=False)"
   ]
  },
  {
   "cell_type": "code",
   "execution_count": null,
   "id": "f4cba2cb",
   "metadata": {},
   "outputs": [],
   "source": [
    "products_df=pd.read_csv('Products.csv')\n",
    "products_df"
   ]
  },
  {
   "cell_type": "code",
   "execution_count": null,
   "id": "170cf091",
   "metadata": {},
   "outputs": [],
   "source": [
    "seller_df=pd.read_csv('Seller.csv')\n",
    "#ch_driver.quit()"
   ]
  },
  {
   "cell_type": "markdown",
   "id": "5776efe8",
   "metadata": {},
   "source": [
    "## Seller Info : \n",
    "\n",
    "will now get the seller details using the below code.\n",
    "\n",
    "    1. Vist the each products URL, go to the different products listed by different sellers.\n",
    "    2. get the Location and seller name and then vist the first product available under each seller.\n",
    "    3. These product sites may have 2 different format\n",
    "        i. have the Home/About tabs in the seller product page directly.\n",
    "        ii. Or have the about section at the end of the product page. => it further have 2 different class Id's.\n",
    "        These above 2 cases are handeled using try except.\n",
    "    4. Get the all Seller details available in any of the above cases.\n",
    "    5. Will be saving the data in chunks(i.e, every 20 iterations) to avoid the time loss in worst case, as the code might crash due to time out"
   ]
  },
  {
   "cell_type": "code",
   "execution_count": null,
   "id": "ab63cd1c",
   "metadata": {
    "scrolled": true
   },
   "outputs": [],
   "source": [
    "ch_driver = webdriver.Chrome(ChromeDriverManager().install())\n",
    "for i in range(0,967):\n",
    "    #print(df[\"Industry\"][i],i)\n",
    "    url=products_df[\"URL\"][i]\n",
    "    ch_driver.refresh()\n",
    "    id=['aboutUs','abt']\n",
    "    if(i%20==0): #save a backup record\n",
    "        seller_df=seller_df.drop_duplicates()\n",
    "        #seller_df.to_csv('Seller.csv',index=False)\n",
    "    try:\n",
    "        ch_driver.get(url.split(\".html\")[0]+\"-all.html\")\n",
    "    except:\n",
    "        print(i)\n",
    "        ch_driver.refresh()\n",
    "    #ch_driver.refresh()\n",
    "    n=int(ch_driver.find_element(By.XPATH, \"//div[@id='content']/div/div[2]/span\").text.lstrip('(').split(' ')[0])\n",
    "    if n>20:\n",
    "        n=20\n",
    "    for j in range(0,n):\n",
    "        try:\n",
    "            seller={\"Industry\":\"\",\"Sub_Industry\":\"\",\"Seller_Name\":\"\",\"Location\":\"\",\"Year of Establishment\":\"\",\"IndiaMART Member Since\":\"\",\"Total Number of Employees\":\"\",\"Legal Status of Firm\":\"\",\"Nature of Business\":\"\",\"Annual Turnover\":\"\",\"GST Number\":\"\",\"Import Export Code (IEC)\":\"\"}\n",
    "            ch_driver.get(url.split(\".html\")[0]+\"-all.html\")\n",
    "            seller[\"Industry\"]=products_df[\"Industry\"][i]\n",
    "            seller[\"Sub_Industry\"]=products_df[\"Sub_Industry\"][i]\n",
    "            seller[\"Seller_Name\"]=ch_driver.find_element(By.XPATH, \"//div[@id='LST\"+str(j)+\"']/div[1]/div[1]/div[1]/span[1]/a\").text #seller name\n",
    "            seller[\"Location\"]=ch_driver.find_element(By.XPATH, \"//div[@id='LST\"+str(j)+\"']/div[1]/div[1]/div[2]\").text #seller location\n",
    "            ch_driver.get(ch_driver.find_element(By.XPATH, \"//div[@id='gu\"+str(j)+\"_0']/div[1]/a\").get_attribute(\"href\"))\n",
    "            try:\n",
    "                ch_driver.find_element(By.XPATH, \"//div[@id='\"+str(id[0])+\"']\")\n",
    "                k=0\n",
    "            except:\n",
    "                try:\n",
    "                    ch_driver.find_element(By.XPATH, \"//div[@id='\"+str(id[1])+\"']\")\n",
    "                    k=1\n",
    "                except:\n",
    "                    ch_driver.get(url.split(\".html\")[0]+\"-all.html\")\n",
    "                    seller={\"Industry\":\"\",\"Sub_Industry\":\"\",\"Seller_Name\":\"\",\"Location\":\"\",\"Year of Establishment\":\"\",\"IndiaMART Member Since\":\"\",\"Total Number of Employees\":\"\",\"Legal Status of Firm\":\"\",\"Nature of Business\":\"\",\"Annual Turnover\":\"\",\"GST Number\":\"\",\"Import Export Code (IEC)\":\"\"}\n",
    "                    seller[\"Industry\"]=products_df[\"Industry\"][i]\n",
    "                    seller[\"Sub_Industry\"]=products_df[\"Sub_Industry\"][i]\n",
    "                    seller[\"Seller_Name\"]=ch_driver.find_element(By.XPATH, \"//div[@id='LST\"+str(j)+\"']/div[1]/div[1]/div[1]/span[1]/a\").text #seller name\n",
    "                    seller[\"Location\"]=ch_driver.find_element(By.XPATH, \"//div[@id='LST\"+str(j)+\"']/div[1]/div[1]/div[2]\").text #seller location\n",
    "                    ch_driver.get(ch_driver.find_element(By.XPATH, \"//div[@id='gu\"+str(j)+\"_0']/div[1]/a\").get_attribute(\"href\").rsplit('/',1)[0])\n",
    "                    for s in range (1,9):\n",
    "                        try:\n",
    "                            seller[ch_driver.find_element(By.XPATH, \"/html/body/main/div[2]/div[3]/div[1]/div[3]/div[3]/div[\"+str(s)+\"]/div[2]/p\").text]=ch_driver.find_element(By.XPATH, \"/html/body/main/div[2]/div[3]/div[1]/div[3]/div[3]/div[\"+str(s)+\"]/div[2]/span\").text\n",
    "                        except:\n",
    "                            pass\n",
    "                    #print(\"case 2 : \",seller[\"Seller_Name\"],seller[\"Year of Establishment\"])\n",
    "                    temp=pd.DataFrame([seller])\n",
    "                    seller_df = pd.concat([seller_df,temp], ignore_index=True)\n",
    "                    continue\n",
    "            #print(\"In case 1\")\n",
    "            for s in range(1,9):\n",
    "                try:\n",
    "                    seller[ch_driver.find_element(By.XPATH, \"//div[@id='\"+str(id[k])+\"']/div[3]/div[\"+str(s)+\"]/span[1]\").text]=ch_driver.find_element(By.XPATH, \"//div[@id='\"+str(id[k])+\"']/div[3]/div[\"+str(s)+\"]/span[2]\").text\n",
    "                except:\n",
    "                    pass\n",
    "            #print(\"case 1 : \",seller[\"Seller_Name\"],seller[\"Year of Establishment\"])\n",
    "            temp=pd.DataFrame([seller])\n",
    "            seller_df = pd.concat([seller_df,temp], ignore_index=True)\n",
    "            continue\n",
    "        except:\n",
    "            #print(\"error in\")\n",
    "            if(j==n-1):\n",
    "                break\n",
    "            continue\n",
    "\n",
    "seller_df=seller_df.drop_duplicates()\n",
    "#seller_df.columns=[\"Industry\",\"Sub_Industry\",\"Seller Name\",\"Location\",\"Year of Establishment\",\"Nature of Business\",\"Annual Turnover\",\"GST\",\"IEC\"]\n",
    "#seller_df.to_csv('Seller.csv',index=False)\n"
   ]
  },
  {
   "cell_type": "code",
   "execution_count": null,
   "id": "2b99ff3b",
   "metadata": {},
   "outputs": [],
   "source": [
    "len(seller_df)\n",
    "#seller_df.to_csv('Seller.csv',index=False)"
   ]
  },
  {
   "cell_type": "markdown",
   "id": "fe78f1b3",
   "metadata": {},
   "source": [
    "### Remove Duplicates and save the seller data\n",
    "\n",
    "Combine any columns that are same, for example below GST & GST Number columns are same.\n",
    "\n",
    "Then remove duplicates using **df.drop_duplicates()**"
   ]
  },
  {
   "cell_type": "code",
   "execution_count": null,
   "id": "ff27248c",
   "metadata": {},
   "outputs": [],
   "source": [
    "unique_seller_df=seller_df[[\"Seller_Name\", \"Location\", \"Year of Establishment\", \"IndiaMART Member Since\", \"Total Number of Employees\", \"Legal Status of Firm\", \"Nature of Business\", \"Annual Turnover\", \"GST Number\", \"Import Export Code (IEC)\", \"Number of Employees\", \"GST\", \"Exports to\"]]"
   ]
  },
  {
   "cell_type": "code",
   "execution_count": null,
   "id": "cdd25235",
   "metadata": {},
   "outputs": [],
   "source": [
    "unique_seller_df[\"GST Number\"]=unique_seller_df[\"GST Number\"].fillna(unique_seller_df[\"GST\"])"
   ]
  },
  {
   "cell_type": "code",
   "execution_count": null,
   "id": "4c15a0d7",
   "metadata": {},
   "outputs": [],
   "source": [
    "unique_seller_df[[\"GST Number\",\"GST\"]]\n",
    "del unique_seller_df[\"GST\"]"
   ]
  },
  {
   "cell_type": "code",
   "execution_count": null,
   "id": "fa71a3c2",
   "metadata": {},
   "outputs": [],
   "source": [
    "unique_seller_df=unique_seller_df.drop_duplicates()\n",
    "unique_seller_df.to_csv('Unique_Sellers.csv',index=False)"
   ]
  },
  {
   "cell_type": "code",
   "execution_count": null,
   "id": "1fca909f",
   "metadata": {},
   "outputs": [],
   "source": []
  }
 ],
 "metadata": {
  "kernelspec": {
   "display_name": "Python 3 (ipykernel)",
   "language": "python",
   "name": "python3"
  },
  "language_info": {
   "codemirror_mode": {
    "name": "ipython",
    "version": 3
   },
   "file_extension": ".py",
   "mimetype": "text/x-python",
   "name": "python",
   "nbconvert_exporter": "python",
   "pygments_lexer": "ipython3",
   "version": "3.9.7"
  }
 },
 "nbformat": 4,
 "nbformat_minor": 5
}
