{
 "cells": [
  {
   "cell_type": "markdown",
   "id": "3050a660",
   "metadata": {},
   "source": [
    "## Scraping seller's data from indiamart website links \n",
    "- info needed \n",
    "    1. Nature of business \n",
    "    2. GST No.\n",
    "    3. Annual Turnover\n",
    "    4. Import Export Code (IEC)"
   ]
  },
  {
   "cell_type": "markdown",
   "id": "a20139d4",
   "metadata": {},
   "source": [
    "### Industries needed - \n",
    "    1. Consumer Electronics & household appliances Furniture\n",
    "    2. Apparel Clothing & Garment: Ladies Dress & Apparel, Kids, Casual Ethnic & Western Wear, Winter Wear & Accessories, Men Shirts, jeans &clothing, Party wedding western and formal wear, Leather Jackets & Garments, Unisex Clothing, \n",
    "    3. Cosmetics & Personal Care\n",
    "    4. Kitchen Essentials\n",
    "    5. Gifts & Decoratives\n",
    "    6. Sports Goods, Toys & Games\n",
    "    7. Gems Jewelry & Astrology\n",
    "    8. Fashion Accessories\n",
    "    9. Bags, Belts & Wallets\n",
    "\n",
    "### IndiaMart Website : https://dir.indiamart.com/\n",
    "\n",
    "__*XPATH*__ :\n",
    "\n",
    "**industry name XPATH** : /html/body/div[2]/article[1]/section[4]/h2/a\n",
    "\n",
    "**first industry XPATH** : /html/body/div[2]/article[1]/section[1]/div[2]/a[7]\n",
    "\n",
    "**last industry XPATH** : /html/body/div[2]/article[1]/section[56]/div[2]/a[7]\n"
   ]
  },
  {
   "cell_type": "code",
   "execution_count": 1,
   "id": "9d641852",
   "metadata": {},
   "outputs": [],
   "source": [
    "import pandas as pd\n",
    "import numpy as np\n",
    "from selenium import webdriver\n",
    "from webdriver_manager.chrome import ChromeDriverManager\n",
    "from selenium.webdriver.common.by import By\n",
    "from selenium.common.exceptions import NoSuchElementException\n",
    "import time"
   ]
  },
  {
   "cell_type": "code",
   "execution_count": 2,
   "id": "204b3870",
   "metadata": {},
   "outputs": [
    {
     "name": "stderr",
     "output_type": "stream",
     "text": [
      "/var/folders/_h/pttrlxyx0_v6dz0s_qqbgyb00000gq/T/ipykernel_76637/2546573160.py:2: DeprecationWarning: executable_path has been deprecated, please pass in a Service object\n",
      "  ch_driver = webdriver.Chrome(ChromeDriverManager().install())\n"
     ]
    }
   ],
   "source": [
    "df = pd.DataFrame()\n",
    "ch_driver = webdriver.Chrome(ChromeDriverManager().install())\n",
    "# Open up a Chrome browser and navigate to web page.\n",
    "options = webdriver.ChromeOptions()"
   ]
  },
  {
   "cell_type": "markdown",
   "id": "aca642e6",
   "metadata": {},
   "source": [
    "## Industries\n",
    "\n",
    "Will get the **Industries list** from the indiamart website using the above mentinoed XPath in a loop."
   ]
  },
  {
   "cell_type": "code",
   "execution_count": null,
   "id": "feafa05a",
   "metadata": {},
   "outputs": [],
   "source": [
    "url1 = \"https://dir.indiamart.com/\"\n",
    "ch_driver.get(url1)\n",
    "for i in range(1,56):\n",
    "    Industries = []\n",
    "    Industries.append(ch_driver.find_element(By.XPATH, \"/html/body/div[2]/article[2]/section[\"+str(i)+\"]/h2/a\").text)\n",
    "    Industries.append(ch_driver.find_element(By.XPATH, \"/html/body/div[2]/article[2]/section[\"+str(i)+\"]/div[2]/a[7]\").get_attribute(\"href\"))\n",
    "    df = df.append([Industries], ignore_index=True)\n",
    "df.columns = ['Industry', 'URL']\n",
    "df.to_csv('Industries.csv',index=False)"
   ]
  },
  {
   "cell_type": "markdown",
   "id": "c8efdbb7",
   "metadata": {},
   "source": [
    "## SubIndustries\n",
    "\n",
    "Using the above industry **URL's**, will now get the subindustries list along with URL's for the selected Industries.\n",
    "\n",
    "SubIndustry __*Name*__ XPATH : /html/body/div[9]/div[2]/div[1]/ul1/li1/a, *ul* and *li* tags will be iterating in loop\n",
    "\n",
    "for the URL we should use .get_attribute(\"href\")"
   ]
  },
  {
   "cell_type": "code",
   "execution_count": null,
   "id": "91d43990",
   "metadata": {},
   "outputs": [],
   "source": [
    "sub_ind_df = pd.DataFrame()\n",
    "for i in range(1,55):\n",
    "    if df[\"Industry\"][i] in ('Apparel & Garments','Electronics & Electrical','Furniture & Supplies','Housewares & Supplies',\n",
    "                             'Handicrafts & Decoratives','Kitchen Utensils & Appliances','Cosmetics & Personal Care','Home Textile & Furnishing',\n",
    "                             'Gems, Jewelry & Astrology','Fashion Accessories & Gear','Sports Goods, Toys & Games','Bags, Belts & Wallets','Leather Products',):\n",
    "        #print(df[\"Industry\"][i],i)\n",
    "        url=df[\"URL\"][i]\n",
    "        ch_driver.get(url)\n",
    "        try:\n",
    "            for j in range(1,20):\n",
    "                for k in range(1,4):\n",
    "                    sub_ind=[]\n",
    "                    sub_ind.append(df[\"Industry\"][i])\n",
    "                    sub_ind.append(ch_driver.find_element(By.XPATH, \"/html/body/div[9]/div[2]/div[1]/ul[\"+str(j)+\"]/li[\"+str(k)+\"]/a\").text)\n",
    "                    sub_ind.append(ch_driver.find_element(By.XPATH, \"/html/body/div[9]/div[2]/div[1]/ul[\"+str(j)+\"]/li[\"+str(k)+\"]/a\").get_attribute(\"href\"))\n",
    "                    sub_ind_df = sub_ind_df.append([sub_ind], ignore_index=True)\n",
    "        except:\n",
    "            #print(i,\"error continued\")\n",
    "            continue\n",
    "            \n",
    "sub_ind_df.columns=[\"Industry\",\"Sub_Industry\",\"URL\"]\n",
    "#sub_ind_df.to_csv('Sub_industries.csv',index=False) \n",
    "#already saved"
   ]
  },
  {
   "cell_type": "code",
   "execution_count": 3,
   "id": "5a1013a7",
   "metadata": {},
   "outputs": [
    {
     "data": {
      "text/html": [
       "<div>\n",
       "<style scoped>\n",
       "    .dataframe tbody tr th:only-of-type {\n",
       "        vertical-align: middle;\n",
       "    }\n",
       "\n",
       "    .dataframe tbody tr th {\n",
       "        vertical-align: top;\n",
       "    }\n",
       "\n",
       "    .dataframe thead th {\n",
       "        text-align: right;\n",
       "    }\n",
       "</style>\n",
       "<table border=\"1\" class=\"dataframe\">\n",
       "  <thead>\n",
       "    <tr style=\"text-align: right;\">\n",
       "      <th></th>\n",
       "      <th>Industry</th>\n",
       "      <th>Sub_Industry</th>\n",
       "      <th>URL</th>\n",
       "    </tr>\n",
       "  </thead>\n",
       "  <tbody>\n",
       "    <tr>\n",
       "      <th>0</th>\n",
       "      <td>Apparel &amp; Garments</td>\n",
       "      <td>Ladies Dresses, Apparels &amp; Clothings</td>\n",
       "      <td>https://dir.indiamart.com/indianexporters/g_ga...</td>\n",
       "    </tr>\n",
       "    <tr>\n",
       "      <th>1</th>\n",
       "      <td>Apparel &amp; Garments</td>\n",
       "      <td>Sarees, Lehenga and Salwar Suits</td>\n",
       "      <td>https://dir.indiamart.com/indianexporters/sare...</td>\n",
       "    </tr>\n",
       "    <tr>\n",
       "      <th>2</th>\n",
       "      <td>Apparel &amp; Garments</td>\n",
       "      <td>Kids Casual, Ethnic &amp; Western Wear</td>\n",
       "      <td>https://dir.indiamart.com/indianexporters/g_em...</td>\n",
       "    </tr>\n",
       "    <tr>\n",
       "      <th>3</th>\n",
       "      <td>Apparel &amp; Garments</td>\n",
       "      <td>Men Shirts, Jeans &amp; Clothing</td>\n",
       "      <td>https://dir.indiamart.com/indianexporters/te_r...</td>\n",
       "    </tr>\n",
       "    <tr>\n",
       "      <th>4</th>\n",
       "      <td>Apparel &amp; Garments</td>\n",
       "      <td>Winter Wear &amp; Accessories</td>\n",
       "      <td>https://dir.indiamart.com/indianexporters/te_w...</td>\n",
       "    </tr>\n",
       "    <tr>\n",
       "      <th>...</th>\n",
       "      <td>...</td>\n",
       "      <td>...</td>\n",
       "      <td>...</td>\n",
       "    </tr>\n",
       "    <tr>\n",
       "      <th>83</th>\n",
       "      <td>Leather Products</td>\n",
       "      <td>Men, Women &amp; Kids Footwear</td>\n",
       "      <td>https://dir.indiamart.com/indianexporters/l_sh...</td>\n",
       "    </tr>\n",
       "    <tr>\n",
       "      <th>84</th>\n",
       "      <td>Leather Products</td>\n",
       "      <td>Fashion &amp; Leather Belts</td>\n",
       "      <td>https://dir.indiamart.com/indianexporters/men-...</td>\n",
       "    </tr>\n",
       "    <tr>\n",
       "      <th>85</th>\n",
       "      <td>Leather Products</td>\n",
       "      <td>Wallets &amp; Purses</td>\n",
       "      <td>https://dir.indiamart.com/indianexporters/wall...</td>\n",
       "    </tr>\n",
       "    <tr>\n",
       "      <th>86</th>\n",
       "      <td>Leather Products</td>\n",
       "      <td>Leather Jackets and Garments</td>\n",
       "      <td>https://dir.indiamart.com/indianexporters/l_ga...</td>\n",
       "    </tr>\n",
       "    <tr>\n",
       "      <th>87</th>\n",
       "      <td>Leather Products</td>\n",
       "      <td>Briefcase, Portfolio &amp; Laptop Bags</td>\n",
       "      <td>https://dir.indiamart.com/indianexporters/port...</td>\n",
       "    </tr>\n",
       "  </tbody>\n",
       "</table>\n",
       "<p>88 rows × 3 columns</p>\n",
       "</div>"
      ],
      "text/plain": [
       "              Industry                          Sub_Industry  \\\n",
       "0   Apparel & Garments  Ladies Dresses, Apparels & Clothings   \n",
       "1   Apparel & Garments      Sarees, Lehenga and Salwar Suits   \n",
       "2   Apparel & Garments    Kids Casual, Ethnic & Western Wear   \n",
       "3   Apparel & Garments          Men Shirts, Jeans & Clothing   \n",
       "4   Apparel & Garments             Winter Wear & Accessories   \n",
       "..                 ...                                   ...   \n",
       "83    Leather Products            Men, Women & Kids Footwear   \n",
       "84    Leather Products               Fashion & Leather Belts   \n",
       "85    Leather Products                      Wallets & Purses   \n",
       "86    Leather Products          Leather Jackets and Garments   \n",
       "87    Leather Products    Briefcase, Portfolio & Laptop Bags   \n",
       "\n",
       "                                                  URL  \n",
       "0   https://dir.indiamart.com/indianexporters/g_ga...  \n",
       "1   https://dir.indiamart.com/indianexporters/sare...  \n",
       "2   https://dir.indiamart.com/indianexporters/g_em...  \n",
       "3   https://dir.indiamart.com/indianexporters/te_r...  \n",
       "4   https://dir.indiamart.com/indianexporters/te_w...  \n",
       "..                                                ...  \n",
       "83  https://dir.indiamart.com/indianexporters/l_sh...  \n",
       "84  https://dir.indiamart.com/indianexporters/men-...  \n",
       "85  https://dir.indiamart.com/indianexporters/wall...  \n",
       "86  https://dir.indiamart.com/indianexporters/l_ga...  \n",
       "87  https://dir.indiamart.com/indianexporters/port...  \n",
       "\n",
       "[88 rows x 3 columns]"
      ]
     },
     "execution_count": 3,
     "metadata": {},
     "output_type": "execute_result"
    }
   ],
   "source": [
    "sub_ind_df=pd.read_csv('Sub_industries.csv')\n",
    "sub_ind_df"
   ]
  },
  {
   "cell_type": "markdown",
   "id": "8796f9b6",
   "metadata": {},
   "source": [
    "## Product Types\n",
    "\n",
    "By visting each selected subIndustries will now get the list of different product types along with URL's\n",
    "\n",
    "will be limiting the loop to 20 products types for each subindustries.\n",
    "\n",
    "*XPATH* : /html/body/div[9]/div[3]/div/section[1]/ul/li1/div/div[1]/div[1]/div/a"
   ]
  },
  {
   "cell_type": "code",
   "execution_count": null,
   "id": "c43286a5",
   "metadata": {},
   "outputs": [
    {
     "name": "stderr",
     "output_type": "stream",
     "text": [
      "[WDM] - Downloading: 100%|█████████████████| 8.04M/8.04M [00:01<00:00, 5.11MB/s]\n",
      "/var/folders/_h/pttrlxyx0_v6dz0s_qqbgyb00000gq/T/ipykernel_76637/4278433756.py:1: DeprecationWarning: executable_path has been deprecated, please pass in a Service object\n",
      "  ch_driver = webdriver.Chrome(ChromeDriverManager().install())\n"
     ]
    }
   ],
   "source": [
    "ch_driver = webdriver.Chrome(ChromeDriverManager().install())\n",
    "product_df=pd.DataFrame()\n",
    "for i in range(0,88):\n",
    "    #print(df[\"Industry\"][i],i)\n",
    "    url=sub_ind_df[\"URL\"][i]\n",
    "    ch_driver.refresh()\n",
    "    try:\n",
    "        ch_driver.get(url)\n",
    "    except:\n",
    "        print(i)\n",
    "        ch_driver.refresh()\n",
    "    try:\n",
    "        for j in range(1,20):\n",
    "            product=[]\n",
    "            product.append(sub_ind_df[\"Industry\"][i])\n",
    "            product.append(sub_ind_df[\"Sub_Industry\"][i])\n",
    "            product.append(ch_driver.find_element(By.XPATH, \"/html/body/div[9]/div[3]/div/section[1]/ul/li[\"+str(j)+\"]/div/div[1]/div[1]/div/a\").text)\n",
    "            product.append(ch_driver.find_element(By.XPATH, \"/html/body/div[9]/div[3]/div/section[1]/ul/li[\"+str(j)+\"]/div/div[1]/div[1]/div/a\").get_attribute(\"href\"))\n",
    "            product_df = product_df.append([product], ignore_index=True)\n",
    "    except:\n",
    "        #print(i,\"error continued\")\n",
    "        continue\n",
    "            \n",
    "#product_df.columns=[\"Industry\",\"Sub_Industry\",\"Product\",\"URL\"]\n",
    "#product_df.to_csv('Products.csv',index=False)\n"
   ]
  },
  {
   "cell_type": "code",
   "execution_count": null,
   "id": "c01b6297",
   "metadata": {},
   "outputs": [],
   "source": [
    "#product_df.to_csv('Products.csv',index=False)"
   ]
  },
  {
   "cell_type": "code",
   "execution_count": 4,
   "id": "f4cba2cb",
   "metadata": {},
   "outputs": [
    {
     "data": {
      "text/html": [
       "<div>\n",
       "<style scoped>\n",
       "    .dataframe tbody tr th:only-of-type {\n",
       "        vertical-align: middle;\n",
       "    }\n",
       "\n",
       "    .dataframe tbody tr th {\n",
       "        vertical-align: top;\n",
       "    }\n",
       "\n",
       "    .dataframe thead th {\n",
       "        text-align: right;\n",
       "    }\n",
       "</style>\n",
       "<table border=\"1\" class=\"dataframe\">\n",
       "  <thead>\n",
       "    <tr style=\"text-align: right;\">\n",
       "      <th></th>\n",
       "      <th>Industry</th>\n",
       "      <th>Sub_Industry</th>\n",
       "      <th>Product</th>\n",
       "      <th>URL</th>\n",
       "    </tr>\n",
       "  </thead>\n",
       "  <tbody>\n",
       "    <tr>\n",
       "      <th>0</th>\n",
       "      <td>Apparel &amp; Garments</td>\n",
       "      <td>Ladies Dresses, Apparels &amp; Clothings</td>\n",
       "      <td>Ladies Suits</td>\n",
       "      <td>https://dir.indiamart.com/impcat/ladies-suits....</td>\n",
       "    </tr>\n",
       "    <tr>\n",
       "      <th>1</th>\n",
       "      <td>Apparel &amp; Garments</td>\n",
       "      <td>Ladies Dresses, Apparels &amp; Clothings</td>\n",
       "      <td>Ladies Kurti</td>\n",
       "      <td>https://dir.indiamart.com/impcat/ladies-kurtis...</td>\n",
       "    </tr>\n",
       "    <tr>\n",
       "      <th>2</th>\n",
       "      <td>Apparel &amp; Garments</td>\n",
       "      <td>Ladies Dresses, Apparels &amp; Clothings</td>\n",
       "      <td>Nightwear</td>\n",
       "      <td>https://dir.indiamart.com/impcat/nightwear.html</td>\n",
       "    </tr>\n",
       "    <tr>\n",
       "      <th>3</th>\n",
       "      <td>Apparel &amp; Garments</td>\n",
       "      <td>Ladies Dresses, Apparels &amp; Clothings</td>\n",
       "      <td>Dupattas</td>\n",
       "      <td>https://dir.indiamart.com/impcat/dupattas.html</td>\n",
       "    </tr>\n",
       "    <tr>\n",
       "      <th>4</th>\n",
       "      <td>Apparel &amp; Garments</td>\n",
       "      <td>Ladies Dresses, Apparels &amp; Clothings</td>\n",
       "      <td>Women Dresses</td>\n",
       "      <td>https://dir.indiamart.com/impcat/womens-dresse...</td>\n",
       "    </tr>\n",
       "    <tr>\n",
       "      <th>...</th>\n",
       "      <td>...</td>\n",
       "      <td>...</td>\n",
       "      <td>...</td>\n",
       "      <td>...</td>\n",
       "    </tr>\n",
       "    <tr>\n",
       "      <th>961</th>\n",
       "      <td>Leather Products</td>\n",
       "      <td>Leather Jackets and Garments</td>\n",
       "      <td>Leather Coats</td>\n",
       "      <td>https://dir.indiamart.com/impcat/leather-coats...</td>\n",
       "    </tr>\n",
       "    <tr>\n",
       "      <th>962</th>\n",
       "      <td>Leather Products</td>\n",
       "      <td>Leather Jackets and Garments</td>\n",
       "      <td>Suede Clothing</td>\n",
       "      <td>https://dir.indiamart.com/impcat/suede-clothin...</td>\n",
       "    </tr>\n",
       "    <tr>\n",
       "      <th>963</th>\n",
       "      <td>Leather Products</td>\n",
       "      <td>Briefcase, Portfolio &amp; Laptop Bags</td>\n",
       "      <td>Laptop Bag</td>\n",
       "      <td>https://dir.indiamart.com/impcat/laptop-bag.html</td>\n",
       "    </tr>\n",
       "    <tr>\n",
       "      <th>964</th>\n",
       "      <td>Leather Products</td>\n",
       "      <td>Briefcase, Portfolio &amp; Laptop Bags</td>\n",
       "      <td>Laptop Case &amp; Sleeves</td>\n",
       "      <td>https://dir.indiamart.com/impcat/laptop-case.html</td>\n",
       "    </tr>\n",
       "    <tr>\n",
       "      <th>965</th>\n",
       "      <td>Leather Products</td>\n",
       "      <td>Briefcase, Portfolio &amp; Laptop Bags</td>\n",
       "      <td>Briefcases</td>\n",
       "      <td>https://dir.indiamart.com/impcat/briefcases.html</td>\n",
       "    </tr>\n",
       "  </tbody>\n",
       "</table>\n",
       "<p>966 rows × 4 columns</p>\n",
       "</div>"
      ],
      "text/plain": [
       "               Industry                          Sub_Industry  \\\n",
       "0    Apparel & Garments  Ladies Dresses, Apparels & Clothings   \n",
       "1    Apparel & Garments  Ladies Dresses, Apparels & Clothings   \n",
       "2    Apparel & Garments  Ladies Dresses, Apparels & Clothings   \n",
       "3    Apparel & Garments  Ladies Dresses, Apparels & Clothings   \n",
       "4    Apparel & Garments  Ladies Dresses, Apparels & Clothings   \n",
       "..                  ...                                   ...   \n",
       "961    Leather Products          Leather Jackets and Garments   \n",
       "962    Leather Products          Leather Jackets and Garments   \n",
       "963    Leather Products    Briefcase, Portfolio & Laptop Bags   \n",
       "964    Leather Products    Briefcase, Portfolio & Laptop Bags   \n",
       "965    Leather Products    Briefcase, Portfolio & Laptop Bags   \n",
       "\n",
       "                   Product                                                URL  \n",
       "0             Ladies Suits  https://dir.indiamart.com/impcat/ladies-suits....  \n",
       "1             Ladies Kurti  https://dir.indiamart.com/impcat/ladies-kurtis...  \n",
       "2                Nightwear    https://dir.indiamart.com/impcat/nightwear.html  \n",
       "3                 Dupattas     https://dir.indiamart.com/impcat/dupattas.html  \n",
       "4            Women Dresses  https://dir.indiamart.com/impcat/womens-dresse...  \n",
       "..                     ...                                                ...  \n",
       "961          Leather Coats  https://dir.indiamart.com/impcat/leather-coats...  \n",
       "962         Suede Clothing  https://dir.indiamart.com/impcat/suede-clothin...  \n",
       "963             Laptop Bag   https://dir.indiamart.com/impcat/laptop-bag.html  \n",
       "964  Laptop Case & Sleeves  https://dir.indiamart.com/impcat/laptop-case.html  \n",
       "965             Briefcases   https://dir.indiamart.com/impcat/briefcases.html  \n",
       "\n",
       "[966 rows x 4 columns]"
      ]
     },
     "execution_count": 4,
     "metadata": {},
     "output_type": "execute_result"
    }
   ],
   "source": [
    "products_df=pd.read_csv('Products.csv')\n",
    "products_df"
   ]
  },
  {
   "cell_type": "code",
   "execution_count": 91,
   "id": "170cf091",
   "metadata": {},
   "outputs": [],
   "source": [
    "seller_df=pd.read_csv('Seller.csv')\n",
    "#ch_driver.quit()"
   ]
  },
  {
   "cell_type": "markdown",
   "id": "b710eb3d",
   "metadata": {},
   "source": [
    "## Seller Info : \n",
    "\n",
    "will now get the seller details using the below code.\n",
    "\n",
    "    1. Vist the each products URL, go to the different products listed by different sellers.\n",
    "    2. get the Location and seller name and then vist the first product available under each seller.\n",
    "    3. These product sites may have 2 different format\n",
    "        i. have the Home/About tabs in the seller product page directly.\n",
    "        ii. Or have the about section at the end of the product page. => it further have 2 different class Id's.\n",
    "        These above 2 cases are handeled using try except.\n",
    "    4. Get the all Seller details available in any of the above cases.\n",
    "    5. Will be saving the data in chunks(i.e, every 20 iterations) to avoid the time loss in worst case, as the code might crash due to time out"
   ]
  },
  {
   "cell_type": "code",
   "execution_count": 89,
   "id": "ab63cd1c",
   "metadata": {
    "scrolled": true
   },
   "outputs": [
    {
     "name": "stderr",
     "output_type": "stream",
     "text": [
      "[WDM] - Downloading: 100%|█████████████████| 8.04M/8.04M [00:00<00:00, 10.2MB/s]\n",
      "/var/folders/_h/pttrlxyx0_v6dz0s_qqbgyb00000gq/T/ipykernel_76637/891568341.py:1: DeprecationWarning: executable_path has been deprecated, please pass in a Service object\n",
      "  ch_driver = webdriver.Chrome(ChromeDriverManager().install())\n"
     ]
    },
    {
     "ename": "KeyError",
     "evalue": "966",
     "output_type": "error",
     "traceback": [
      "\u001b[0;31m---------------------------------------------------------------------------\u001b[0m",
      "\u001b[0;31mValueError\u001b[0m                                Traceback (most recent call last)",
      "\u001b[0;32m~/opt/anaconda3/lib/python3.9/site-packages/pandas/core/indexes/range.py\u001b[0m in \u001b[0;36mget_loc\u001b[0;34m(self, key, method, tolerance)\u001b[0m\n\u001b[1;32m    384\u001b[0m                 \u001b[0;32mtry\u001b[0m\u001b[0;34m:\u001b[0m\u001b[0;34m\u001b[0m\u001b[0;34m\u001b[0m\u001b[0m\n\u001b[0;32m--> 385\u001b[0;31m                     \u001b[0;32mreturn\u001b[0m \u001b[0mself\u001b[0m\u001b[0;34m.\u001b[0m\u001b[0m_range\u001b[0m\u001b[0;34m.\u001b[0m\u001b[0mindex\u001b[0m\u001b[0;34m(\u001b[0m\u001b[0mnew_key\u001b[0m\u001b[0;34m)\u001b[0m\u001b[0;34m\u001b[0m\u001b[0;34m\u001b[0m\u001b[0m\n\u001b[0m\u001b[1;32m    386\u001b[0m                 \u001b[0;32mexcept\u001b[0m \u001b[0mValueError\u001b[0m \u001b[0;32mas\u001b[0m \u001b[0merr\u001b[0m\u001b[0;34m:\u001b[0m\u001b[0;34m\u001b[0m\u001b[0;34m\u001b[0m\u001b[0m\n",
      "\u001b[0;31mValueError\u001b[0m: 966 is not in range",
      "\nThe above exception was the direct cause of the following exception:\n",
      "\u001b[0;31mKeyError\u001b[0m                                  Traceback (most recent call last)",
      "\u001b[0;32m/var/folders/_h/pttrlxyx0_v6dz0s_qqbgyb00000gq/T/ipykernel_76637/891568341.py\u001b[0m in \u001b[0;36m<module>\u001b[0;34m\u001b[0m\n\u001b[1;32m      2\u001b[0m \u001b[0;32mfor\u001b[0m \u001b[0mi\u001b[0m \u001b[0;32min\u001b[0m \u001b[0mrange\u001b[0m\u001b[0;34m(\u001b[0m\u001b[0;36m740\u001b[0m\u001b[0;34m,\u001b[0m\u001b[0;36m967\u001b[0m\u001b[0;34m)\u001b[0m\u001b[0;34m:\u001b[0m\u001b[0;34m\u001b[0m\u001b[0;34m\u001b[0m\u001b[0m\n\u001b[1;32m      3\u001b[0m     \u001b[0;31m#print(df[\"Industry\"][i],i)\u001b[0m\u001b[0;34m\u001b[0m\u001b[0;34m\u001b[0m\u001b[0m\n\u001b[0;32m----> 4\u001b[0;31m     \u001b[0murl\u001b[0m\u001b[0;34m=\u001b[0m\u001b[0mproducts_df\u001b[0m\u001b[0;34m[\u001b[0m\u001b[0;34m\"URL\"\u001b[0m\u001b[0;34m]\u001b[0m\u001b[0;34m[\u001b[0m\u001b[0mi\u001b[0m\u001b[0;34m]\u001b[0m\u001b[0;34m\u001b[0m\u001b[0;34m\u001b[0m\u001b[0m\n\u001b[0m\u001b[1;32m      5\u001b[0m     \u001b[0mch_driver\u001b[0m\u001b[0;34m.\u001b[0m\u001b[0mrefresh\u001b[0m\u001b[0;34m(\u001b[0m\u001b[0;34m)\u001b[0m\u001b[0;34m\u001b[0m\u001b[0;34m\u001b[0m\u001b[0m\n\u001b[1;32m      6\u001b[0m     \u001b[0mid\u001b[0m\u001b[0;34m=\u001b[0m\u001b[0;34m[\u001b[0m\u001b[0;34m'aboutUs'\u001b[0m\u001b[0;34m,\u001b[0m\u001b[0;34m'abt'\u001b[0m\u001b[0;34m]\u001b[0m\u001b[0;34m\u001b[0m\u001b[0;34m\u001b[0m\u001b[0m\n",
      "\u001b[0;32m~/opt/anaconda3/lib/python3.9/site-packages/pandas/core/series.py\u001b[0m in \u001b[0;36m__getitem__\u001b[0;34m(self, key)\u001b[0m\n\u001b[1;32m    940\u001b[0m \u001b[0;34m\u001b[0m\u001b[0m\n\u001b[1;32m    941\u001b[0m         \u001b[0;32melif\u001b[0m \u001b[0mkey_is_scalar\u001b[0m\u001b[0;34m:\u001b[0m\u001b[0;34m\u001b[0m\u001b[0;34m\u001b[0m\u001b[0m\n\u001b[0;32m--> 942\u001b[0;31m             \u001b[0;32mreturn\u001b[0m \u001b[0mself\u001b[0m\u001b[0;34m.\u001b[0m\u001b[0m_get_value\u001b[0m\u001b[0;34m(\u001b[0m\u001b[0mkey\u001b[0m\u001b[0;34m)\u001b[0m\u001b[0;34m\u001b[0m\u001b[0;34m\u001b[0m\u001b[0m\n\u001b[0m\u001b[1;32m    943\u001b[0m \u001b[0;34m\u001b[0m\u001b[0m\n\u001b[1;32m    944\u001b[0m         \u001b[0;32mif\u001b[0m \u001b[0mis_hashable\u001b[0m\u001b[0;34m(\u001b[0m\u001b[0mkey\u001b[0m\u001b[0;34m)\u001b[0m\u001b[0;34m:\u001b[0m\u001b[0;34m\u001b[0m\u001b[0;34m\u001b[0m\u001b[0m\n",
      "\u001b[0;32m~/opt/anaconda3/lib/python3.9/site-packages/pandas/core/series.py\u001b[0m in \u001b[0;36m_get_value\u001b[0;34m(self, label, takeable)\u001b[0m\n\u001b[1;32m   1049\u001b[0m \u001b[0;34m\u001b[0m\u001b[0m\n\u001b[1;32m   1050\u001b[0m         \u001b[0;31m# Similar to Index.get_value, but we do not fall back to positional\u001b[0m\u001b[0;34m\u001b[0m\u001b[0;34m\u001b[0m\u001b[0m\n\u001b[0;32m-> 1051\u001b[0;31m         \u001b[0mloc\u001b[0m \u001b[0;34m=\u001b[0m \u001b[0mself\u001b[0m\u001b[0;34m.\u001b[0m\u001b[0mindex\u001b[0m\u001b[0;34m.\u001b[0m\u001b[0mget_loc\u001b[0m\u001b[0;34m(\u001b[0m\u001b[0mlabel\u001b[0m\u001b[0;34m)\u001b[0m\u001b[0;34m\u001b[0m\u001b[0;34m\u001b[0m\u001b[0m\n\u001b[0m\u001b[1;32m   1052\u001b[0m         \u001b[0;32mreturn\u001b[0m \u001b[0mself\u001b[0m\u001b[0;34m.\u001b[0m\u001b[0mindex\u001b[0m\u001b[0;34m.\u001b[0m\u001b[0m_get_values_for_loc\u001b[0m\u001b[0;34m(\u001b[0m\u001b[0mself\u001b[0m\u001b[0;34m,\u001b[0m \u001b[0mloc\u001b[0m\u001b[0;34m,\u001b[0m \u001b[0mlabel\u001b[0m\u001b[0;34m)\u001b[0m\u001b[0;34m\u001b[0m\u001b[0;34m\u001b[0m\u001b[0m\n\u001b[1;32m   1053\u001b[0m \u001b[0;34m\u001b[0m\u001b[0m\n",
      "\u001b[0;32m~/opt/anaconda3/lib/python3.9/site-packages/pandas/core/indexes/range.py\u001b[0m in \u001b[0;36mget_loc\u001b[0;34m(self, key, method, tolerance)\u001b[0m\n\u001b[1;32m    385\u001b[0m                     \u001b[0;32mreturn\u001b[0m \u001b[0mself\u001b[0m\u001b[0;34m.\u001b[0m\u001b[0m_range\u001b[0m\u001b[0;34m.\u001b[0m\u001b[0mindex\u001b[0m\u001b[0;34m(\u001b[0m\u001b[0mnew_key\u001b[0m\u001b[0;34m)\u001b[0m\u001b[0;34m\u001b[0m\u001b[0;34m\u001b[0m\u001b[0m\n\u001b[1;32m    386\u001b[0m                 \u001b[0;32mexcept\u001b[0m \u001b[0mValueError\u001b[0m \u001b[0;32mas\u001b[0m \u001b[0merr\u001b[0m\u001b[0;34m:\u001b[0m\u001b[0;34m\u001b[0m\u001b[0;34m\u001b[0m\u001b[0m\n\u001b[0;32m--> 387\u001b[0;31m                     \u001b[0;32mraise\u001b[0m \u001b[0mKeyError\u001b[0m\u001b[0;34m(\u001b[0m\u001b[0mkey\u001b[0m\u001b[0;34m)\u001b[0m \u001b[0;32mfrom\u001b[0m \u001b[0merr\u001b[0m\u001b[0;34m\u001b[0m\u001b[0;34m\u001b[0m\u001b[0m\n\u001b[0m\u001b[1;32m    388\u001b[0m             \u001b[0;32mraise\u001b[0m \u001b[0mKeyError\u001b[0m\u001b[0;34m(\u001b[0m\u001b[0mkey\u001b[0m\u001b[0;34m)\u001b[0m\u001b[0;34m\u001b[0m\u001b[0;34m\u001b[0m\u001b[0m\n\u001b[1;32m    389\u001b[0m         \u001b[0;32mreturn\u001b[0m \u001b[0msuper\u001b[0m\u001b[0;34m(\u001b[0m\u001b[0;34m)\u001b[0m\u001b[0;34m.\u001b[0m\u001b[0mget_loc\u001b[0m\u001b[0;34m(\u001b[0m\u001b[0mkey\u001b[0m\u001b[0;34m,\u001b[0m \u001b[0mmethod\u001b[0m\u001b[0;34m=\u001b[0m\u001b[0mmethod\u001b[0m\u001b[0;34m,\u001b[0m \u001b[0mtolerance\u001b[0m\u001b[0;34m=\u001b[0m\u001b[0mtolerance\u001b[0m\u001b[0;34m)\u001b[0m\u001b[0;34m\u001b[0m\u001b[0;34m\u001b[0m\u001b[0m\n",
      "\u001b[0;31mKeyError\u001b[0m: 966"
     ]
    }
   ],
   "source": [
    "ch_driver = webdriver.Chrome(ChromeDriverManager().install())\n",
    "for i in range(0,967):\n",
    "    #print(df[\"Industry\"][i],i)\n",
    "    url=products_df[\"URL\"][i]\n",
    "    ch_driver.refresh()\n",
    "    id=['aboutUs','abt']\n",
    "    if(i%20==0): #save a backup record\n",
    "        seller_df=seller_df.drop_duplicates()\n",
    "        #seller_df.to_csv('Seller.csv',index=False)\n",
    "    try:\n",
    "        ch_driver.get(url.split(\".html\")[0]+\"-all.html\")\n",
    "    except:\n",
    "        print(i)\n",
    "        ch_driver.refresh()\n",
    "    #ch_driver.refresh()\n",
    "    n=int(ch_driver.find_element(By.XPATH, \"//div[@id='content']/div/div[2]/span\").text.lstrip('(').split(' ')[0])\n",
    "    if n>20:\n",
    "        n=20\n",
    "    for j in range(0,n):\n",
    "        try:\n",
    "            seller={\"Industry\":\"\",\"Sub_Industry\":\"\",\"Seller_Name\":\"\",\"Location\":\"\",\"Year of Establishment\":\"\",\"IndiaMART Member Since\":\"\",\"Total Number of Employees\":\"\",\"Legal Status of Firm\":\"\",\"Nature of Business\":\"\",\"Annual Turnover\":\"\",\"GST Number\":\"\",\"Import Export Code (IEC)\":\"\"}\n",
    "            ch_driver.get(url.split(\".html\")[0]+\"-all.html\")\n",
    "            seller[\"Industry\"]=products_df[\"Industry\"][i]\n",
    "            seller[\"Sub_Industry\"]=products_df[\"Sub_Industry\"][i]\n",
    "            seller[\"Seller_Name\"]=ch_driver.find_element(By.XPATH, \"//div[@id='LST\"+str(j)+\"']/div[1]/div[1]/div[1]/span[1]/a\").text #seller name\n",
    "            seller[\"Location\"]=ch_driver.find_element(By.XPATH, \"//div[@id='LST\"+str(j)+\"']/div[1]/div[1]/div[2]\").text #seller location\n",
    "            ch_driver.get(ch_driver.find_element(By.XPATH, \"//div[@id='gu\"+str(j)+\"_0']/div[1]/a\").get_attribute(\"href\"))\n",
    "            try:\n",
    "                ch_driver.find_element(By.XPATH, \"//div[@id='\"+str(id[0])+\"']\")\n",
    "                k=0\n",
    "            except:\n",
    "                try:\n",
    "                    ch_driver.find_element(By.XPATH, \"//div[@id='\"+str(id[1])+\"']\")\n",
    "                    k=1\n",
    "                except:\n",
    "                    ch_driver.get(url.split(\".html\")[0]+\"-all.html\")\n",
    "                    seller={\"Industry\":\"\",\"Sub_Industry\":\"\",\"Seller_Name\":\"\",\"Location\":\"\",\"Year of Establishment\":\"\",\"IndiaMART Member Since\":\"\",\"Total Number of Employees\":\"\",\"Legal Status of Firm\":\"\",\"Nature of Business\":\"\",\"Annual Turnover\":\"\",\"GST Number\":\"\",\"Import Export Code (IEC)\":\"\"}\n",
    "                    seller[\"Industry\"]=products_df[\"Industry\"][i]\n",
    "                    seller[\"Sub_Industry\"]=products_df[\"Sub_Industry\"][i]\n",
    "                    seller[\"Seller_Name\"]=ch_driver.find_element(By.XPATH, \"//div[@id='LST\"+str(j)+\"']/div[1]/div[1]/div[1]/span[1]/a\").text #seller name\n",
    "                    seller[\"Location\"]=ch_driver.find_element(By.XPATH, \"//div[@id='LST\"+str(j)+\"']/div[1]/div[1]/div[2]\").text #seller location\n",
    "                    ch_driver.get(ch_driver.find_element(By.XPATH, \"//div[@id='gu\"+str(j)+\"_0']/div[1]/a\").get_attribute(\"href\").rsplit('/',1)[0])\n",
    "                    for s in range (1,9):\n",
    "                        try:\n",
    "                            seller[ch_driver.find_element(By.XPATH, \"/html/body/main/div[2]/div[3]/div[1]/div[3]/div[3]/div[\"+str(s)+\"]/div[2]/p\").text]=ch_driver.find_element(By.XPATH, \"/html/body/main/div[2]/div[3]/div[1]/div[3]/div[3]/div[\"+str(s)+\"]/div[2]/span\").text\n",
    "                        except:\n",
    "                            pass\n",
    "                    #print(\"case 2 : \",seller[\"Seller_Name\"],seller[\"Year of Establishment\"])\n",
    "                    temp=pd.DataFrame([seller])\n",
    "                    seller_df = pd.concat([seller_df,temp], ignore_index=True)\n",
    "                    continue\n",
    "            #print(\"In case 1\")\n",
    "            for s in range(1,9):\n",
    "                try:\n",
    "                    seller[ch_driver.find_element(By.XPATH, \"//div[@id='\"+str(id[k])+\"']/div[3]/div[\"+str(s)+\"]/span[1]\").text]=ch_driver.find_element(By.XPATH, \"//div[@id='\"+str(id[k])+\"']/div[3]/div[\"+str(s)+\"]/span[2]\").text\n",
    "                except:\n",
    "                    pass\n",
    "            #print(\"case 1 : \",seller[\"Seller_Name\"],seller[\"Year of Establishment\"])\n",
    "            temp=pd.DataFrame([seller])\n",
    "            seller_df = pd.concat([seller_df,temp], ignore_index=True)\n",
    "            continue\n",
    "        except:\n",
    "            #print(\"error in\")\n",
    "            if(j==n-1):\n",
    "                break\n",
    "            continue\n",
    "\n",
    "seller_df=seller_df.drop_duplicates()\n",
    "#seller_df.columns=[\"Industry\",\"Sub_Industry\",\"Seller Name\",\"Location\",\"Year of Establishment\",\"Nature of Business\",\"Annual Turnover\",\"GST\",\"IEC\"]\n",
    "#seller_df.to_csv('Seller.csv',index=False)\n"
   ]
  },
  {
   "cell_type": "code",
   "execution_count": 93,
   "id": "2b99ff3b",
   "metadata": {},
   "outputs": [
    {
     "data": {
      "text/plain": [
       "18276"
      ]
     },
     "execution_count": 93,
     "metadata": {},
     "output_type": "execute_result"
    }
   ],
   "source": [
    "len(seller_df)\n",
    "#seller_df.to_csv('Seller.csv',index=False)"
   ]
  },
  {
   "cell_type": "markdown",
   "id": "770aa9ad",
   "metadata": {},
   "source": [
    "### Remove Duplicates and save the seller data\n",
    "\n",
    "Combine any columns that are same, for example below GST & GST Number columns are same.\n",
    "\n",
    "Then remove duplicates using **df.drop_duplicates()**"
   ]
  },
  {
   "cell_type": "code",
   "execution_count": 100,
   "id": "ff27248c",
   "metadata": {},
   "outputs": [],
   "source": [
    "unique_seller_df=seller_df[[\"Seller_Name\", \"Location\", \"Year of Establishment\", \"IndiaMART Member Since\", \"Total Number of Employees\", \"Legal Status of Firm\", \"Nature of Business\", \"Annual Turnover\", \"GST Number\", \"Import Export Code (IEC)\", \"Number of Employees\", \"GST\", \"Exports to\"]]"
   ]
  },
  {
   "cell_type": "code",
   "execution_count": 113,
   "id": "cdd25235",
   "metadata": {},
   "outputs": [],
   "source": [
    "unique_seller_df[\"GST Number\"]=unique_seller_df[\"GST Number\"].fillna(unique_seller_df[\"GST\"])"
   ]
  },
  {
   "cell_type": "code",
   "execution_count": 117,
   "id": "4c15a0d7",
   "metadata": {},
   "outputs": [],
   "source": [
    "unique_seller_df[[\"GST Number\",\"GST\"]]\n",
    "del unique_seller_df[\"GST\"]"
   ]
  },
  {
   "cell_type": "code",
   "execution_count": 116,
   "id": "fa71a3c2",
   "metadata": {},
   "outputs": [],
   "source": [
    "unique_seller_df=unique_seller_df.drop_duplicates()\n",
    "unique_seller_df.to_csv('Unique_Sellers.csv',index=False)"
   ]
  },
  {
   "cell_type": "code",
   "execution_count": null,
   "id": "1fca909f",
   "metadata": {},
   "outputs": [],
   "source": []
  }
 ],
 "metadata": {
  "kernelspec": {
   "display_name": "Python 3 (ipykernel)",
   "language": "python",
   "name": "python3"
  },
  "language_info": {
   "codemirror_mode": {
    "name": "ipython",
    "version": 3
   },
   "file_extension": ".py",
   "mimetype": "text/x-python",
   "name": "python",
   "nbconvert_exporter": "python",
   "pygments_lexer": "ipython3",
   "version": "3.9.7"
  }
 },
 "nbformat": 4,
 "nbformat_minor": 5
}
